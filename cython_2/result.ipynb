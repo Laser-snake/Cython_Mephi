{
 "cells": [
  {
   "cell_type": "code",
   "execution_count": 1,
   "metadata": {},
   "outputs": [],
   "source": [
    "import numpy as np\n",
    "import matplotlib.pyplot as plt\n",
    "from scipy.special import erf\n",
    "import scipy\n",
    "import quantum"
   ]
  },
  {
   "cell_type": "code",
   "execution_count": 2,
   "metadata": {},
   "outputs": [],
   "source": [
    "import numpy as np\n",
    "import matplotlib.pyplot as plt\n",
    "from scipy.special import erf\n",
    "import scipy\n",
    "import quantum"
   ]
  },
  {
   "cell_type": "code",
   "execution_count": 2,
   "metadata": {},
   "outputs": [
    {
     "name": "stdout",
     "output_type": "stream",
     "text": [
      "alpha:0.049800199999998795j\n"
     ]
    }
   ],
   "source": [
    "a = quantum.ParamsSystem(1000, 500, 50, 1)\n",
    "a.inition_state_psi_gauss(6, 2, -10)\n",
    "a.potention(1)\n",
    "def norm_psi(psi, x):\n",
    "    return np.sqrt(scipy.integrate.simps(abs(psi) ** 2, x))"
   ]
  },
  {
   "cell_type": "code",
   "execution_count": 3,
   "metadata": {},
   "outputs": [
    {
     "data": {
      "text/plain": [
       "[<matplotlib.lines.Line2D at 0x2f6a89e4e50>]"
      ]
     },
     "execution_count": 3,
     "metadata": {},
     "output_type": "execute_result"
    },
    {
     "data": {
      "image/png": "[encoded data removed]",
      "text/plain": [
       "<Figure size 640x480 with 1 Axes>"
      ]
     },
     "metadata": {},
     "output_type": "display_data"
    }
   ],
   "source": [
    "plt.plot(a.grid_x, np.abs(a.psi_0)**2)"
   ]
  },
  {
   "cell_type": "code",
   "execution_count": 4,
   "metadata": {},
   "outputs": [],
   "source": [
    "b = quantum.WaveFunctionEvolution(a)"
   ]
  },
  {
   "cell_type": "code",
   "execution_count": 5,
   "metadata": {},
   "outputs": [],
   "source": [
    "time_steps, final_time, space_steps, light_system, hbar, m_LP, d, p0, a0 = np.loadtxt('parameters_well.csv', delimiter=',')\n",
    "space_steps = int(space_steps)\n",
    "x_space = np.linspace(-light_system/2., light_system/2., space_steps)\n",
    "dt = final_time/time_steps"
   ]
  },
  {
   "cell_type": "code",
   "execution_count": null,
   "metadata": {},
   "outputs": [],
   "source": []
  },
  {
   "cell_type": "code",
   "execution_count": 6,
   "metadata": {},
   "outputs": [],
   "source": [
    "import ipywidgets as ip"
   ]
  },
  {
   "cell_type": "code",
   "execution_count": 7,
   "metadata": {},
   "outputs": [
    {
     "data": {
      "application/vnd.jupyter.widget-view+json": {
       "model_id": "f67bf244d4804c2d8e7746949785aece",
       "version_major": 2,
       "version_minor": 0
      },
      "text/plain": [
       "interactive(children=(IntSlider(value=499, description='x', max=999), Output()), _dom_classes=('widget-interac…"
      ]
     },
     "metadata": {},
     "output_type": "display_data"
    },
    {
     "data": {
      "text/plain": [
       "<function __main__.slideshow2(x)>"
      ]
     },
     "execution_count": 7,
     "metadata": {},
     "output_type": "execute_result"
    }
   ],
   "source": [
    "def slideshow2(x):\n",
    "    plt.plot(a.grid_x, np.abs(b.psi_x_t_res[:,x])**2)\n",
    "    t = x*a.dt\n",
    "    sig =  np.sqrt(((d ** 2)/2)* (1 + ((hbar * t)/(m_LP * d **2)) **2))\n",
    "    mean = a0 + (p0/m_LP)*t\n",
    "    psi_x_t_anal = (1/(np.pi * 2 * sig ** 2) ** (0.25)) * np.exp(1j * p0 *a.grid_x/hbar) * np.exp(-((a.grid_x-mean)**2)/(4 * sig ** 2))\n",
    "    plt.plot(a.grid_x, np.abs(psi_x_t_anal)**2)\n",
    "    print(f\"t:{t}\")\n",
    "\n",
    "\n",
    "\n",
    "ip.interact(slideshow2,x=(0, np.array(b.psi_x_t_res).shape[1]-1,1))"
   ]
  },
  {
   "cell_type": "code",
   "execution_count": 8,
   "metadata": {},
   "outputs": [],
   "source": [
    "k_space = (2 * np.pi)/a.light_system * np.fft.fftfreq(a.space_steps, 1./a.space_steps)\n",
    "k_space = np.fft.fftshift(k_space)"
   ]
  },
  {
   "cell_type": "code",
   "execution_count": 10,
   "metadata": {},
   "outputs": [
    {
     "data": {
      "application/vnd.jupyter.widget-view+json": {
       "model_id": "8b8c1bcd7f184026bd6c31e26adef7c2",
       "version_major": 2,
       "version_minor": 0
      },
      "text/plain": [
       "interactive(children=(IntSlider(value=499, description='x', max=999), Output()), _dom_classes=('widget-interac…"
      ]
     },
     "metadata": {},
     "output_type": "display_data"
    },
    {
     "data": {
      "text/plain": [
       "<function __main__.slideshow2(x)>"
      ]
     },
     "execution_count": 10,
     "metadata": {},
     "output_type": "execute_result"
    }
   ],
   "source": [
    "def slideshow2(x):\n",
    "    psi_k_t = np.fft.fftn(b.psi_x_t_res[:,x])\n",
    "    psi_k_t = np.fft.fftshift(psi_k_t)\n",
    "    plt.plot(k_space, np.abs(psi_k_t)**2)\n",
    "    plt.xlim((0, 3))\n",
    "    plt.show()\n",
    "ip.interact(slideshow2,x=(0, np.array(b.psi_x_t_res).shape[1]-1,1))"
   ]
  },
  {
   "cell_type": "code",
   "execution_count": null,
   "metadata": {},
   "outputs": [],
   "source": []
  },
  {
   "cell_type": "code",
   "execution_count": null,
   "metadata": {},
   "outputs": [],
   "source": []
  },
  {
   "cell_type": "markdown",
   "metadata": {},
   "source": []
  },
  {
   "cell_type": "code",
   "execution_count": 15,
   "metadata": {},
   "outputs": [
    {
     "name": "stdout",
     "output_type": "stream",
     "text": [
      "alpha:0.049800199999998795j\n"
     ]
    }
   ],
   "source": [
    "a = quantum.ParamsSystem(5000, 500, 50, 5)\n",
    "a.inition_state_psi_gauss(2, 7, -10)\n",
    "a.potention(0.)\n",
    "def norm_psi(psi, x):\n",
    "    return np.sqrt(scipy.integrate.simps(abs(psi) ** 2, x))"
   ]
  },
  {
   "cell_type": "code",
   "execution_count": 16,
   "metadata": {},
   "outputs": [],
   "source": [
    "b = quantum.WaveFunctionEvolution(a)"
   ]
  },
  {
   "cell_type": "code",
   "execution_count": 20,
   "metadata": {},
   "outputs": [],
   "source": [
    "time_steps, final_time, space_steps, light_system, hbar, m_LP, d, p0, a0 = np.loadtxt('parameters_well.csv', delimiter=',')\n",
    "space_steps = int(space_steps)\n",
    "x_space = np.linspace(-light_system/2., light_system/2., space_steps)\n",
    "dt = final_time/time_steps\n",
    "p0 = 7"
   ]
  },
  {
   "cell_type": "code",
   "execution_count": 21,
   "metadata": {},
   "outputs": [],
   "source": [
    "import ipywidgets as ip"
   ]
  },
  {
   "cell_type": "code",
   "execution_count": 22,
   "metadata": {},
   "outputs": [
    {
     "data": {
      "application/vnd.jupyter.widget-view+json": {
       "model_id": "fad230825dfc45f7b978e1bd437ae66b",
       "version_major": 2,
       "version_minor": 0
      },
      "text/plain": [
       "interactive(children=(IntSlider(value=2499, description='x', max=4999), Output()), _dom_classes=('widget-inter…"
      ]
     },
     "metadata": {},
     "output_type": "display_data"
    },
    {
     "data": {
      "text/plain": [
       "<function __main__.slideshow2(x)>"
      ]
     },
     "execution_count": 22,
     "metadata": {},
     "output_type": "execute_result"
    }
   ],
   "source": [
    "def slideshow2(x):\n",
    "    plt.plot(a.grid_x, np.abs(b.psi_x_t_res[:,x])**2)\n",
    "    t = x*a.dt\n",
    "    sig =  np.sqrt(((d ** 2)/2)* (1 + ((hbar * t)/(m_LP * d **2)) **2))\n",
    "    mean = a0 + (p0/m_LP)*t\n",
    "    psi_x_t_anal = (1/(np.pi * 2 * sig ** 2) ** (0.25)) * np.exp(1j * p0 *a.grid_x/hbar) * np.exp(-((a.grid_x-mean)**2)/(4 * sig ** 2))\n",
    "    plt.plot(a.grid_x, np.abs(psi_x_t_anal)**2)\n",
    "    print(f\"t:{t}\")\n",
    "    print(f\"norm:{norm_psi(b.psi_x_t_res[:,x], a.grid_x)}\")\n",
    "\n",
    "\n",
    "\n",
    "ip.interact(slideshow2,x=(0, np.array(b.psi_x_t_res).shape[1]-1,1))"
   ]
  },
  {
   "cell_type": "code",
   "execution_count": 7,
   "metadata": {},
   "outputs": [],
   "source": [
    "k_space = (2 * np.pi)/a.light_system * np.fft.fftfreq(a.space_steps, 1./a.space_steps)\n",
    "k_space = np.fft.fftshift(k_space)"
   ]
  },
  {
   "cell_type": "code",
   "execution_count": 8,
   "metadata": {},
   "outputs": [
    {
     "data": {
      "application/vnd.jupyter.widget-view+json": {
       "model_id": "0ebfdf30fb8849a0aea4c31b35bafa1c",
       "version_major": 2,
       "version_minor": 0
      },
      "text/plain": [
       "interactive(children=(IntSlider(value=2499, description='x', max=4999), Output()), _dom_classes=('widget-inter…"
      ]
     },
     "metadata": {},
     "output_type": "display_data"
    },
    {
     "data": {
      "text/plain": [
       "<function __main__.slideshow2(x)>"
      ]
     },
     "execution_count": 8,
     "metadata": {},
     "output_type": "execute_result"
    }
   ],
   "source": [
    "def slideshow2(x):\n",
    "    psi_k_t = np.fft.fftn(b.psi_x_t_res[:,x])\n",
    "    psi_k_t = np.fft.fftshift(psi_k_t)\n",
    "    plt.plot(k_space, np.abs(psi_k_t)**2)\n",
    "    plt.xlim((-10, 10))\n",
    "    plt.show()\n",
    "ip.interact(slideshow2,x=(0, np.array(b.psi_x_t_res).shape[1]-1,1))"
   ]
  },
  {
   "cell_type": "code",
   "execution_count": 2,
   "metadata": {},
   "outputs": [
    {
     "name": "stdout",
     "output_type": "stream",
     "text": [
      "alpha:0.25536039999999877j\n"
     ]
    },
    {
     "data": {
      "image/png": "[encoded data removed]",
      "text/plain": [
       "<Figure size 640x480 with 1 Axes>"
      ]
     },
     "metadata": {},
     "output_type": "display_data"
    }
   ],
   "source": [
    "a = quantum.ParamsSystem(40000, 800, 50, 80)\n",
    "a.inition_state_psi_gauss(0.5, 0, 1)\n",
    "a.double_well(a=2, d=0.5,amp=8,delta = -8)\n",
    "plt.plot(a.grid_x,a.V_pote)\n",
    "def norm_psi(psi, x):\n",
    "    return np.sqrt(scipy.integrate.simps(abs(psi) ** 2, x))"
   ]
  },
  {
   "cell_type": "code",
   "execution_count": 3,
   "metadata": {},
   "outputs": [],
   "source": [
    "b = quantum.WaveFunctionEvolution(a)"
   ]
  },
  {
   "cell_type": "code",
   "execution_count": 4,
   "metadata": {},
   "outputs": [
    {
     "data": {
      "application/vnd.jupyter.widget-view+json": {
       "model_id": "d93bd64f91ad48479a20f48d09e91336",
       "version_major": 2,
       "version_minor": 0
      },
      "text/plain": [
       "interactive(children=(IntSlider(value=19999, description='x', max=39999), Output()), _dom_classes=('widget-int…"
      ]
     },
     "metadata": {},
     "output_type": "display_data"
    },
    {
     "data": {
      "text/plain": [
       "<function __main__.slideshow2(x)>"
      ]
     },
     "execution_count": 4,
     "metadata": {},
     "output_type": "execute_result"
    }
   ],
   "source": [
    "import ipywidgets as ip\n",
    "def slideshow2(x):\n",
    "    plt.plot(a.grid_x, np.abs(b.psi_x_t_res[:,x])**2)\n",
    "    plt.plot(a.grid_x,a.V_pote)\n",
    "    plt.xlim(-6,6)\n",
    "    t = x*a.dt\n",
    "    print(f\"t:{t}\")\n",
    "    print(f\"norm:{norm_psi(b.psi_x_t_res[:,x], a.grid_x)}\")\n",
    "\n",
    "\n",
    "\n",
    "ip.interact(slideshow2,x=(0, np.array(b.psi_x_t_res).shape[1]-1,1))"
   ]
  },
  {
   "cell_type": "code",
   "execution_count": null,
   "metadata": {},
   "outputs": [],
   "source": []
  }
 ],
 "metadata": {
  "kernelspec": {
   "display_name": "Python 3",
   "language": "python",
   "name": "python3"
  },
  "language_info": {
   "codemirror_mode": {
    "name": "ipython",
    "version": 3
   },
   "file_extension": ".py",
   "mimetype": "text/x-python",
   "name": "python",
   "nbconvert_exporter": "python",
   "pygments_lexer": "ipython3",
   "version": "3.11.5"
  }
 },
 "nbformat": 4,
 "nbformat_minor": 2
}
